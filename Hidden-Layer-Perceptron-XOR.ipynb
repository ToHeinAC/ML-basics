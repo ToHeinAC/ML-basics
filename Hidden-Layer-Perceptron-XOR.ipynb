{
 "cells": [
  {
   "cell_type": "markdown",
   "metadata": {},
   "source": [
    "# Hidden-Layer-Perceptron for XOR"
   ]
  },
  {
   "cell_type": "markdown",
   "metadata": {},
   "source": [
    "https://iamtrask.github.io/2015/07/12/basic-python-network/\n",
    "https://chih-ling-hsu.github.io/2017/08/30/NN-XOR"
   ]
  },
  {
   "cell_type": "markdown",
   "metadata": {},
   "source": [
    "### Import"
   ]
  },
  {
   "cell_type": "code",
   "execution_count": 1,
   "metadata": {},
   "outputs": [],
   "source": [
    "import numpy as np\n",
    "import matplotlib.pyplot as plt"
   ]
  },
  {
   "cell_type": "markdown",
   "metadata": {},
   "source": [
    "### Definition of activation function"
   ]
  },
  {
   "cell_type": "code",
   "execution_count": 2,
   "metadata": {},
   "outputs": [],
   "source": [
    "# sigmoid function\n",
    "def sigmoid(x,deriv=False):\n",
    "    if(deriv==True):\n",
    "        return x*(1-x)\n",
    "    return 1/(1+np.exp(-x))"
   ]
  },
  {
   "cell_type": "markdown",
   "metadata": {},
   "source": [
    "### XOR example data"
   ]
  },
  {
   "cell_type": "code",
   "execution_count": 3,
   "metadata": {},
   "outputs": [
    {
     "name": "stdout",
     "output_type": "stream",
     "text": [
      "[[0 0 1]\n",
      " [0 1 1]\n",
      " [1 0 1]\n",
      " [1 1 1]]\n",
      "[[0]\n",
      " [1]\n",
      " [1]\n",
      " [0]]\n"
     ]
    }
   ],
   "source": [
    "# input dataset\n",
    "X = np.array([  [0,0,1],\n",
    "                [0,1,1],\n",
    "                [1,0,1],\n",
    "                [1,1,1] ])\n",
    "    \n",
    "# output dataset            \n",
    "y = np.array([[0,1,1,0]]).T\n",
    "print(X)\n",
    "print(y)"
   ]
  },
  {
   "cell_type": "markdown",
   "metadata": {},
   "source": [
    "### Initialisation of weights"
   ]
  },
  {
   "cell_type": "code",
   "execution_count": 4,
   "metadata": {},
   "outputs": [
    {
     "name": "stdout",
     "output_type": "stream",
     "text": [
      "[[-0.16595599  0.44064899 -0.99977125 -0.39533485]\n",
      " [-0.70648822 -0.81532281 -0.62747958 -0.30887855]\n",
      " [-0.20646505  0.07763347 -0.16161097  0.370439  ]]\n",
      "[[-0.5910955 ]\n",
      " [ 0.75623487]\n",
      " [-0.94522481]\n",
      " [ 0.34093502]]\n"
     ]
    }
   ],
   "source": [
    "# seed random numbers to make calculation\n",
    "# deterministic (just a good practice)\n",
    "np.random.seed(1)\n",
    "\n",
    "# syn0=First layer of weights, Synapse 0, connecting l0 to l1.\n",
    "# initialize weights randomly with mean 0\n",
    "syn0 = 2*np.random.random((3,4)) - 1 \n",
    "\n",
    "# syn0=Second layer of weights, Synapse 1 connecting l1 to l2.\n",
    "syn1 = 2*np.random.random((4,1)) - 1\n",
    "\n",
    "print(syn0)\n",
    "print(syn1)"
   ]
  },
  {
   "cell_type": "markdown",
   "metadata": {},
   "source": [
    "### Algorithm of hidden-layer-perceptron with backpropagation and gradient descent"
   ]
  },
  {
   "cell_type": "code",
   "execution_count": 5,
   "metadata": {},
   "outputs": [
    {
     "name": "stdout",
     "output_type": "stream",
     "text": [
      "Error:0.49641003190272537\n",
      "Error:0.013018434775309309\n",
      "Error:0.008584525653247159\n",
      "Error:0.006803777931641752\n",
      "Error:0.0057894598625078085\n",
      "Error:0.005116384388543916\n",
      "Error:0.004629176776769985\n",
      "Error:0.004256055058028443\n",
      "Error:0.003958765280273649\n",
      "Error:0.003714841343970406\n",
      "Error:0.0035101225678616766\n",
      "Error:0.003335189038926974\n"
     ]
    }
   ],
   "source": [
    "est_errors=[]\n",
    "\n",
    "iterations=60000\n",
    "for j in range(iterations):\n",
    "\n",
    "    # (1) Feed forward through layers 0, 1, and 2\n",
    "    l0 = X #First Layer of the Network, specified by the input data\n",
    "    l1 = sigmoid(np.dot(l0,syn0)) #Second Layer of the Network, otherwise known as the hidden layer\n",
    "    l2 = sigmoid(np.dot(l1,syn1)) #Final Layer of the Network, which is our hypothesis, \n",
    "                                 #and should approximate the correct answer as we train.\n",
    "\n",
    "    # (2) Backpropagations:\n",
    "    # how much did we miss the target value?\n",
    "    l2_error = y - l2 #This is the amount that the neural network \"missed\".\n",
    "    est_errors.append(np.mean(np.abs(l2_error)))\n",
    "    \n",
    "    if (j% 5000) == 0:\n",
    "        print(\"Error:\" + str(np.mean(np.abs(l2_error))))\n",
    "        \n",
    "    # in what direction is the target value?\n",
    "    # were we really sure? if so, don't change too much.\n",
    "    l2_delta = l2_error*sigmoid(l2,deriv=True) #This is the error of the network scaled by the confidence. \n",
    "    #It's almost identical to the error except that very confident errors are muted.\n",
    "\n",
    "    # how much did each l1 value contribute to the l2 error (according to the weights)?\n",
    "    l1_error = l2_delta.dot(syn1.T) #Weighting l2_delta by the weights in syn1, we can calculate \n",
    "                                    #the error in the middle/hidden layer.\n",
    "    \n",
    "    # in what direction is the target l1?\n",
    "    # were we really sure? if so, don't change too much.\n",
    "    l1_delta = l1_error * sigmoid(l1,deriv=True) #This is the l1 error of the network scaled by the confidence. \n",
    "    #Again, it's almost identical to the l1_error except that confident errors are muted.\n",
    "\n",
    "    # (3) Update weights\n",
    "    syn1 += l1.T.dot(l2_delta) \n",
    "    syn0 += l0.T.dot(l1_delta)"
   ]
  },
  {
   "cell_type": "markdown",
   "metadata": {},
   "source": [
    "### Result "
   ]
  },
  {
   "cell_type": "code",
   "execution_count": 6,
   "metadata": {},
   "outputs": [
    {
     "name": "stdout",
     "output_type": "stream",
     "text": [
      "Output After Training:\n",
      "[[0.00260572]\n",
      " [0.99672209]\n",
      " [0.99701711]\n",
      " [0.00386759]]\n"
     ]
    },
    {
     "data": {
      "image/png": "[encoded data removed]",
      "text/plain": [
       "<Figure size 432x288 with 1 Axes>"
      ]
     },
     "metadata": {
      "needs_background": "light"
     },
     "output_type": "display_data"
    }
   ],
   "source": [
    "plt.xlim([0,iterations])\n",
    "plt.ylim([0,1])\n",
    "plt.grid()\n",
    "plt.xlabel('Iterationen')\n",
    "plt.ylabel('Error')\n",
    "plt.plot(est_errors)\n",
    "\n",
    "print(\"Output After Training:\")\n",
    "print(l2)"
   ]
  }
 ],
 "metadata": {
  "kernelspec": {
   "display_name": "Python 3",
   "language": "python",
   "name": "python3"
  },
  "language_info": {
   "codemirror_mode": {
    "name": "ipython",
    "version": 3
   },
   "file_extension": ".py",
   "mimetype": "text/x-python",
   "name": "python",
   "nbconvert_exporter": "python",
   "pygments_lexer": "ipython3",
   "version": "3.6.8"
  }
 },
 "nbformat": 4,
 "nbformat_minor": 2
}
