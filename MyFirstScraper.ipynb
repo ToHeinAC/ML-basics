{
 "cells": [
  {
   "cell_type": "code",
   "execution_count": 1,
   "metadata": {},
   "outputs": [],
   "source": [
    "#!pip install requests"
   ]
  },
  {
   "cell_type": "code",
   "execution_count": 2,
   "metadata": {},
   "outputs": [],
   "source": [
    "#!pip install bs4"
   ]
  },
  {
   "cell_type": "code",
   "execution_count": 3,
   "metadata": {},
   "outputs": [
    {
     "name": "stdout",
     "output_type": "stream",
     "text": [
      "Filling DB... \n"
     ]
    },
    {
     "name": "stderr",
     "output_type": "stream",
     "text": [
      "C:\\ProgramData\\Anaconda3\\lib\\site-packages\\pandas\\core\\generic.py:2532: UserWarning: The spaces in these column names will not be changed. In pandas versions < 0.14, spaces were converted to underscores.\n",
      "  dtype=dtype, method=method)\n"
     ]
    },
    {
     "name": "stdout",
     "output_type": "stream",
     "text": [
      "Filling DB... \n",
      "Filling DB... \n",
      "Filling DB... \n",
      "Filling DB... \n",
      "Filling DB... \n",
      "Filling DB... \n",
      "Filling DB... \n",
      "Filling DB... \n",
      "Filling DB... \n"
     ]
    }
   ],
   "source": [
    "import time, datetime\n",
    "import random\n",
    "from requests import get\n",
    "from bs4 import BeautifulSoup\n",
    "import pandas as pd\n",
    "import sqlite3 as lite\n",
    "\n",
    "number_of_points=10\n",
    "url = 'https://www.t-online.de/finanzen/boerse/indizes/id_51947152/isin_DE0008469008/indizes.html'\n",
    "db_name = 'Aktienkurse_DB.db'\n",
    "\n",
    "fillDB=True\n",
    "\n",
    "i=0\n",
    "while i < number_of_points:\n",
    "    t0=time.time()\n",
    "    n = datetime.datetime.now()\n",
    "    now = n.strftime('%d.%m.%Y %H:%M:%S')\n",
    "    response = get(url)\n",
    "    html_soup = BeautifulSoup(response.text, 'html.parser')\n",
    "    type(html_soup)\n",
    "    dax30_containers = html_soup.find_all('div', class_ = 'Tllc Tbd')\n",
    "    target = dax30_containers[1]\n",
    "    firma = []\n",
    "    isin = []\n",
    "    kurs = []\n",
    "    for item in target.tbody.find_all('td', class_ = 'Tleft'):\n",
    "        if item.find('b') is not None:\n",
    "            firma.append(item.b.a.text)\n",
    "\n",
    "    for item in target.tbody.find_all('td'):\n",
    "        if item.find('a') is not None:\n",
    "            isin.append(item.a.text)\n",
    "        if item.find('b') is not None:\n",
    "            kurs.append(item.b.text)\n",
    "    \n",
    "    kurs_n = [x[:-2].replace(',','.') for x in kurs if x not in firma]\n",
    "    isin_n = [x for x in isin if x not in firma] \n",
    "\n",
    "    if fillDB:\n",
    "        sheet='Daten'\n",
    "        print (\"Filling DB... \")\n",
    "        conn = lite.connect(db_name)\n",
    "        cur = conn.cursor()\n",
    "\n",
    "        if i == 0:\n",
    "            test_df = pd.DataFrame({'Firma': firma,\n",
    "            'ISIN': isin_n,                       \n",
    "            now: kurs_n,\n",
    "            })\n",
    "            #print(test_df)\n",
    "            for item in ['Firma','ISIN',str(now)]:\n",
    "                cur.execute('DROP TABLE IF EXISTS '+sheet)\n",
    "                test_df.to_sql(sheet, conn, if_exists='replace', index=False) # - writes the pd.df to SQLIte DB\n",
    "        else:\n",
    "            test_df[now]=kurs_n\n",
    "            cur.execute('DROP TABLE IF EXISTS '+sheet)\n",
    "            test_df.to_sql(sheet, conn, if_exists='replace', index=False) # - writes the pd.df to SQLIte DB\n",
    "        \n",
    "    conn.commit()\n",
    "    conn.close()\n",
    "        \n",
    "    time.sleep(random.randint(61,100))\n",
    "    i+=1"
   ]
  }
 ],
 "metadata": {
  "kernelspec": {
   "display_name": "Python 3",
   "language": "python",
   "name": "python3"
  },
  "language_info": {
   "codemirror_mode": {
    "name": "ipython",
    "version": 3
   },
   "file_extension": ".py",
   "mimetype": "text/x-python",
   "name": "python",
   "nbconvert_exporter": "python",
   "pygments_lexer": "ipython3",
   "version": "3.7.0"
  }
 },
 "nbformat": 4,
 "nbformat_minor": 2
}
